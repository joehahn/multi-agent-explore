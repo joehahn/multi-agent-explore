{
 "cells": [
  {
   "cell_type": "code",
   "execution_count": 1,
   "metadata": {},
   "outputs": [],
   "source": [
    "#multi_agent.ipynb\n",
    "#\n",
    "#by Joe Hahn\n",
    "#jmh.datasciences@gmail.com\n",
    "#12 February 2018\n",
    "#\n",
    "#This uses Q-learning on multiple agents to demonstrate something..."
   ]
  },
  {
   "cell_type": "code",
   "execution_count": 2,
   "metadata": {},
   "outputs": [],
   "source": [
    "#game settings\n",
    "N_agents = 3                #number of agents\n",
    "N_buckets = 5               #number of buckets\n",
    "max_moves = 100             #max number of moves in single game\n",
    "rn_seed = 14                #seed for random number generator"
   ]
  },
  {
   "cell_type": "code",
   "execution_count": null,
   "metadata": {},
   "outputs": [
    {
     "name": "stdout",
     "output_type": "stream",
     "text": [
      "environment =  {'acts': ['move to 0', 'move to 1', 'move to 2', 'move to 3', 'move to 4'], 'actions': [0, 1, 2, 3, 4], 'N_agents': 3, 'max_moves': 100, 'rn_seed': 14, 'N_buckets': 5}\n",
      "state =  {'agents': [{'bucket': 2}, {'bucket': 3}, {'bucket': 4}], 'next_agent': 1}\n",
      "reward =  9.0\n",
      "state_vector =  [[ 0.  0.  1.  1.  1.]]\n"
     ]
    },
    {
     "name": "stderr",
     "output_type": "stream",
     "text": [
      "Using TensorFlow backend.\n"
     ]
    }
   ],
   "source": [
    "#import game\n",
    "from multi_agent import *\n",
    "import time\n",
    "time_start = time.time()"
   ]
  },
  {
   "cell_type": "code",
   "execution_count": null,
   "metadata": {},
   "outputs": [],
   "source": []
  }
 ],
 "metadata": {
  "kernelspec": {
   "display_name": "Python 2",
   "language": "python",
   "name": "python2"
  },
  "language_info": {
   "codemirror_mode": {
    "name": "ipython",
    "version": 2
   },
   "file_extension": ".py",
   "mimetype": "text/x-python",
   "name": "python",
   "nbconvert_exporter": "python",
   "pygments_lexer": "ipython2",
   "version": "2.7.14"
  }
 },
 "nbformat": 4,
 "nbformat_minor": 2
}
